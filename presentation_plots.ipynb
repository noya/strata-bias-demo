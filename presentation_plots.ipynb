{
 "cells": [
  {
   "cell_type": "markdown",
   "metadata": {},
   "source": [
    "# Training Time #"
   ]
  },
  {
   "cell_type": "code",
   "execution_count": 1,
   "metadata": {},
   "outputs": [],
   "source": [
    "import numpy as np\n",
    "import matplotlib.pyplot as plt\n",
    "import pandas as pd\n",
    "import tutorial_util as util\n",
    "import json\n",
    "import os\n",
    "from collections import defaultdict\n",
    "from scipy.stats import ttest_ind\n",
    "from functools import reduce"
   ]
  },
  {
   "cell_type": "code",
   "execution_count": 2,
   "metadata": {},
   "outputs": [],
   "source": [
    "%matplotlib inline"
   ]
  },
  {
   "cell_type": "code",
   "execution_count": 3,
   "metadata": {},
   "outputs": [
    {
     "data": {
      "text/plain": [
       "'/home/cstseng/Documents/strata_bias_demo'"
      ]
     },
     "execution_count": 3,
     "metadata": {},
     "output_type": "execute_result"
    }
   ],
   "source": [
    "os.getcwd()"
   ]
  },
  {
   "cell_type": "code",
   "execution_count": 4,
   "metadata": {},
   "outputs": [],
   "source": [
    "# with open('/data_knlzeug02/DATASETS/berkely-deepdrive/bdd100k/labels/bdd100k_labels_images_val.json', 'r') as f:\n",
    "#     val_labels = json.load(f)"
   ]
  },
  {
   "cell_type": "code",
   "execution_count": 8,
   "metadata": {},
   "outputs": [],
   "source": [
    "def format_labels(images):\n",
    "    format_labels = []\n",
    "    for img in images:\n",
    "        \n",
    "        for l in img['labels']:\n",
    "            if l['category'] != 'person':\n",
    "                continue\n",
    "            else:\n",
    "                item = {}\n",
    "                item['name'] = img['name']\n",
    "                item['timeofday'] = img['attributes']['timeofday']\n",
    "                item['occluded']  = l['attributes']['occluded']\n",
    "                item['truncated'] = l['attributes']['truncated']\n",
    "                item['bbox'] = [l['box2d']['x1'], l['box2d']['y1'], l['box2d']['x2'], l['box2d']['y2']]\n",
    "                \n",
    "                format_labels.append(item)\n",
    "    return format_labels\n",
    "#gt = format_labels(val_labels)\n"
   ]
  },
  {
   "cell_type": "code",
   "execution_count": 6,
   "metadata": {},
   "outputs": [],
   "source": [
    "def group_by_key(detections, key):\n",
    "    groups = defaultdict(list)\n",
    "    for d in detections:\n",
    "        groups[d[key]].append(d)\n",
    "    return groups\n",
    "\n",
    "# cat_gt = group_by_key(gt, 'timeofday')\n",
    "# cat_gt.keys()"
   ]
  },
  {
   "cell_type": "code",
   "execution_count": null,
   "metadata": {},
   "outputs": [],
   "source": [
    "# cat_day_gt = group_by_key(cat_gt['daytime'], 'occluded')\n",
    "# cat_day_gt.keys()"
   ]
  },
  {
   "cell_type": "code",
   "execution_count": 37,
   "metadata": {},
   "outputs": [],
   "source": [
    "# calculate number of pedestrians in labels??\n",
    "with open ('../algoFairness_ww40.2/gt_day.json', 'r') as f:\n",
    "    orig_gt_day = json.load(f)\n",
    "with open ('../algoFairness_ww40.2/gt_night.json', 'r') as f:\n",
    "    orig_gt_night = json.load(f) \n",
    "    \n",
    "dd_day_detection = np.load('../algoFairness_ww40.2/dd_day_detection.npy')\n",
    "dd_night_detection = np.load('../algoFairness_ww40.2/dd_night_detection.npy')\n",
    "    \n",
    "dn_day_detection = np.load('../algoFairness_ww40.2/dn_day_detection.npy')\n",
    "dn_night_detection = np.load('../algoFairness_ww40.2/dn_night_detection.npy')\n",
    "\n",
    "nd_day_detection = np.load('../algoFairness_ww40.2/nd_day_detection.npy')\n",
    "nd_night_detection = np.load('../algoFairness_ww40.2/nd_night_detection.npy')\n"
   ]
  },
  {
   "cell_type": "code",
   "execution_count": 18,
   "metadata": {},
   "outputs": [
    {
     "name": "stdout",
     "output_type": "stream",
     "text": [
      "len gt day 594\n",
      "len gt night 837\n",
      "len detect day 598\n",
      "len detect night 837\n"
     ]
    }
   ],
   "source": [
    "print('len gt day', len(orig_gt_day))\n",
    "print('len gt night', len(orig_gt_night))\n",
    "print('len detect day', len(dn_day_detection))\n",
    "print('len detect night', len(dn_night_detection))"
   ]
  },
  {
   "cell_type": "code",
   "execution_count": 12,
   "metadata": {},
   "outputs": [],
   "source": [
    "def format_split_labels(images):\n",
    "    format_labels = []\n",
    "    for img in images:\n",
    "        \n",
    "        for cnt, l in enumerate(img['classes']):\n",
    "            item = {}\n",
    "            item['name'] = img['name']\n",
    "            item['timeofday'] = img['timeofday']\n",
    "            item['occluded']  = img['occluded'][cnt]\n",
    "            item['bbox'] = [img['bbox_xmin'][cnt], \n",
    "                            img['bbox_ymin'][cnt],\n",
    "                            img['bbox_xmax'][cnt],\n",
    "                            img['bbox_ymax'][cnt]]\n",
    "                \n",
    "            format_labels.append(item)\n",
    "    return format_labels\n",
    "\n",
    "gt_day = format_split_labels(orig_gt_day)\n",
    "gt_night = format_split_labels(orig_gt_night)"
   ]
  },
  {
   "cell_type": "code",
   "execution_count": 21,
   "metadata": {},
   "outputs": [
    {
     "data": {
      "text/plain": [
       "{'name': 'b1d0a191-06deb55d.jpg',\n",
       " 'timeofday': 'daytime',\n",
       " 'occluded': False,\n",
       " 'bbox': [62.268335, 271.041167, 107.784948, 382.630285]}"
      ]
     },
     "execution_count": 21,
     "metadata": {},
     "output_type": "execute_result"
    }
   ],
   "source": [
    "gt_day[0]"
   ]
  },
  {
   "cell_type": "code",
   "execution_count": 39,
   "metadata": {},
   "outputs": [],
   "source": [
    "def format_pred(predictions):\n",
    "    format_pred = []\n",
    "    for img in predictions:\n",
    "        \n",
    "        for idx in range(int(img['num_detections'])):\n",
    "            item = {}\n",
    "            item['name'] = img['name']\n",
    "            item['bbox']  = [img['scaled_detection_boxes'][idx][1], img['scaled_detection_boxes'][idx][0],\n",
    "                            img['scaled_detection_boxes'][idx][3], img['scaled_detection_boxes'][idx][2]]\n",
    "            \n",
    "            item['score'] = img['detection_scores'][idx]\n",
    "\n",
    "            format_pred.append(item)\n",
    "    return format_pred\n",
    "\n",
    "\n",
    "dd_day_pred = format_pred(dd_day_detection)\n",
    "dd_night_pred = format_pred(dd_night_detection)\n",
    "\n",
    "dn_day_pred = format_pred(dn_day_detection)\n",
    "dn_night_pred = format_pred(dn_night_detection)\n",
    "\n",
    "nd_day_pred = format_pred(nd_day_detection)\n",
    "nd_night_pred = format_pred(nd_night_detection)"
   ]
  },
  {
   "cell_type": "code",
   "execution_count": 16,
   "metadata": {},
   "outputs": [
    {
     "name": "stdout",
     "output_type": "stream",
     "text": [
      "len gt day 2843\n",
      "len gt night 2843\n",
      "len detect day 2393\n",
      "len detect night 2488\n"
     ]
    }
   ],
   "source": [
    "print('len gt day', len(gt_day))\n",
    "print('len gt night', len(gt_night))\n",
    "print('len detect day', len(dn_day_pred))\n",
    "print('len detect night', len(dn_night_pred))"
   ]
  },
  {
   "cell_type": "code",
   "execution_count": 73,
   "metadata": {},
   "outputs": [],
   "source": [
    "def get_ap(recalls, precisions):\n",
    "    # correct AP calculation\n",
    "    # first append sentinel values at the end\n",
    "    recalls = np.concatenate(([0.], recalls, [1.]))\n",
    "    precisions = np.concatenate(([0.], precisions, [0.]))\n",
    "\n",
    "    # compute the precision envelope\n",
    "    for i in range(precisions.size - 1, 0, -1):\n",
    "        precisions[i - 1] = np.maximum(precisions[i - 1], precisions[i])\n",
    "\n",
    "    # to calculate area under PR curve, look for points\n",
    "    # where X axis (recall) changes value\n",
    "    i = np.where(recalls[1:] != recalls[:-1])[0]\n",
    "\n",
    "    # and sum (\\Delta recall) * prec\n",
    "    ap = np.sum((recalls[i + 1] - recalls[i]) * precisions[i + 1])\n",
    "    return ap\n",
    "\n",
    "def cat_pc(gt, predictions, thresholds):\n",
    "    \"\"\"\n",
    "    Implementation refers to https://github.com/rbgirshick/py-faster-rcnn\n",
    "    \"\"\"\n",
    "    num_gts = len(gt)\n",
    "    image_gts = group_by_key(gt, 'name')\n",
    "    image_gt_boxes = {k: np.array([[float(z) for z in b['bbox']]\n",
    "                                   for b in boxes])\n",
    "                      for k, boxes in image_gts.items()}\n",
    "    image_gt_checked = {k: np.zeros((len(boxes), len(thresholds)))\n",
    "                        for k, boxes in image_gts.items()}\n",
    "    image_gt_occluded = {k: np.array([b['occluded']\n",
    "                                   for b in boxes])\n",
    "                      for k, boxes in image_gts.items()}\n",
    "    \n",
    "    num_gts_occluded = reduce(lambda x, y: int(x) + int(y), [i['occluded'] for i in gt])\n",
    "    \n",
    "    predictions = sorted(predictions, key=lambda x: x['score'], reverse=True)\n",
    "\n",
    "    # go down dets and mark TPs and FPs\n",
    "    nd = len(predictions)\n",
    "    tp = np.zeros((nd, len(thresholds)))\n",
    "    fp = np.zeros((nd, len(thresholds)))\n",
    "    \n",
    "    nd_occ = len(predictions)\n",
    "    tp_occ = np.zeros((nd, len(thresholds)))\n",
    "    fp_occ = np.zeros((nd, len(thresholds)))\n",
    "    \n",
    "    nd_nocc = len(predictions)\n",
    "    tp_nocc = np.zeros((nd, len(thresholds)))\n",
    "    fp_nocc = np.zeros((nd, len(thresholds)))\n",
    "    \n",
    "    for i, p in enumerate(predictions):\n",
    "        box = p['bbox']\n",
    "        #print('name', p['name'], i)\n",
    "        ovmax = -np.inf\n",
    "        jmax = -1\n",
    "        try:\n",
    "            gt_boxes = image_gt_boxes[p['name']]\n",
    "            gt_checked = image_gt_checked[p['name']]\n",
    "            gt_occluded = image_gt_occluded[p['name']]\n",
    "        except KeyError:\n",
    "            print('name', p['name'] ,\"does not exist in gt\")\n",
    "            gt_boxes = []\n",
    "            gt_checked = None\n",
    "            gt_occluded = None\n",
    "            # todo: remove later\n",
    "            continue\n",
    "            \n",
    "        if len(gt_boxes) > 0:\n",
    "            # compute overlaps\n",
    "            # intersection\n",
    "            ixmin = np.maximum(gt_boxes[:, 0], box[0])\n",
    "            iymin = np.maximum(gt_boxes[:, 1], box[1])\n",
    "            ixmax = np.minimum(gt_boxes[:, 2], box[2])\n",
    "            iymax = np.minimum(gt_boxes[:, 3], box[3])\n",
    "            iw = np.maximum(ixmax - ixmin + 1., 0.)\n",
    "            ih = np.maximum(iymax - iymin + 1., 0.)\n",
    "            inters = iw * ih\n",
    "\n",
    "            # union\n",
    "            uni = ((box[2] - box[0] + 1.) * (box[3] - box[1] + 1.) +\n",
    "                   (gt_boxes[:, 2] - gt_boxes[:, 0] + 1.) *\n",
    "                   (gt_boxes[:, 3] - gt_boxes[:, 1] + 1.) - inters)\n",
    "\n",
    "            overlaps = inters / uni\n",
    "            ovmax = np.max(overlaps)\n",
    "            jmax = np.argmax(overlaps)\n",
    "            #print('length of gt boxes', len(gt_boxes), 'ovmax', ovmax, 'jmax', jmax,\n",
    "            #     'box', box, 'gt_boxes', gt_boxes)\n",
    "            \n",
    "        for t, threshold in enumerate(thresholds):\n",
    "            if ovmax > threshold:\n",
    "                if gt_checked[jmax, t] == 0:\n",
    "                    if gt_occluded[jmax] == True:\n",
    "                        tp_occ[i, t] = 1.\n",
    "                    else:\n",
    "                        tp_nocc[i, t] = 1.\n",
    "                    tp[i, t] = 1\n",
    "                    gt_checked[jmax, t] = 1\n",
    "                else:\n",
    "                    if gt_occluded[jmax] == True:\n",
    "                        fp_occ[i, t] = 1.\n",
    "                    else:\n",
    "                        fp_nocc[i, t] = 1.\n",
    "                    fp[i, t] = 1.\n",
    "            else:\n",
    "                if gt_occluded[jmax] == True:\n",
    "                    fp_occ[i, t] = 1.\n",
    "                else:\n",
    "                    fp_nocc[i, t] = 1.\n",
    "                fp[i, t] = 1.\n",
    "\n",
    "    # compute precision recall\n",
    "    fp = np.cumsum(fp, axis=0)\n",
    "    tp = np.cumsum(tp, axis=0)\n",
    "    recalls = tp / float(num_gts)\n",
    "    # avoid divide by zero in case the first detection matches a difficult\n",
    "    # ground truth\n",
    "    precisions = tp / np.maximum(tp + fp, np.finfo(np.float64).eps)\n",
    "    ap = np.zeros(len(thresholds))\n",
    "    \n",
    "    # occluded\n",
    "    fp_occ = np.cumsum(fp_occ, axis=0)\n",
    "    tp_occ = np.cumsum(tp_occ, axis=0)\n",
    "    recalls_occ = tp_occ / float(num_gts_occluded) # probaly should divide by number of occluded\n",
    "    precisions_occ = tp_occ / np.maximum(tp_occ + fp_occ, np.finfo(np.float64).eps)\n",
    "    ap_occ = np.zeros(len(thresholds))\n",
    "    \n",
    "    # not occluded\n",
    "    fp_nocc = np.cumsum(fp_nocc, axis=0)\n",
    "    tp_nocc = np.cumsum(tp_nocc, axis=0)\n",
    "    recalls_nocc = tp_nocc / float((num_gts - num_gts_occluded)) # probaly should divide by number of occluded\n",
    "    precisions_nocc = tp_nocc / np.maximum(tp_nocc + fp_nocc, np.finfo(np.float64).eps)\n",
    "    ap_nocc = np.zeros(len(thresholds))\n",
    "    \n",
    "    for t in range(len(thresholds)):\n",
    "        ap[t] = get_ap(recalls[:, t], precisions[:, t])\n",
    "        ap_occ[t] = get_ap(recalls_occ[:, t], precisions_occ[:, t])\n",
    "        ap_nocc[t] = get_ap(recalls_nocc[:, t], precisions_nocc[:, t])\n",
    "\n",
    "    return ap, ap_occ, ap_nocc, \\\n",
    "            tp[-1], tp_occ[-1], tp_nocc[-1], num_gts, num_gts_occluded\n",
    "\n",
    "#def evaluate_detection(gt_path, result_path):\n",
    "def evaluate_detection(gt, pred, metric=None):\n",
    "    thresholds = [0.75]\n",
    "    aps = np.zeros((len(thresholds)))\n",
    "    ap, ap_oc, ap_noc, tp, tp_occ, tp_nocc, num_gts, num_gts_oc = cat_pc(gt, pred, thresholds)\n",
    "    print('has Average Precision', ap, 'Occluded Average Precision', ap_oc, \n",
    "          'non-Occluded Average Precision', ap_noc, 'num_gts', num_gts, 'num_gts_oc', num_gts_oc,\n",
    "         'r', tp/num_gts, 'r_occ', tp_occ/num_gts_oc, 'r_nocc', tp_nocc/(num_gts - num_gts_oc))\n",
    "    \n",
    "    result = {}\n",
    "    if metric == 'ap':\n",
    "        result['recall'] = ap\n",
    "        result['recall_oc'] = ap_oc\n",
    "        result['recall_noc'] = ap_noc\n",
    "        result['num_gts'] = num_gts\n",
    "        result['num_gts_oc'] = num_gts_oc\n",
    "        return result\n",
    "    \n",
    "    result['recall'] = tp[0]/num_gts\n",
    "    result['recall_oc'] = tp_occ[0]/num_gts_oc\n",
    "    result['recall_noc'] = tp_nocc[0]/(num_gts - num_gts_oc)\n",
    "    result['num_gts'] = num_gts\n",
    "    result['num_gts_oc'] = num_gts_oc\n",
    "    return result\n"
   ]
  },
  {
   "cell_type": "code",
   "execution_count": 74,
   "metadata": {},
   "outputs": [
    {
     "name": "stdout",
     "output_type": "stream",
     "text": [
      "day night eq\n",
      "name b1cd1e94-549d0bfe.jpg does not exist in gt\n",
      "name b1d0a191-03dcecc2.jpg does not exist in gt\n",
      "name b1d0a191-03dcecc2.jpg does not exist in gt\n",
      "name b1d0a191-03dcecc2.jpg does not exist in gt\n",
      "name b1d0a191-2ed2269e.jpg does not exist in gt\n",
      "name b1d0a191-03dcecc2.jpg does not exist in gt\n",
      "name b1d0a191-03dcecc2.jpg does not exist in gt\n",
      "name b1d0a191-03dcecc2.jpg does not exist in gt\n",
      "name b1d0a191-03dcecc2.jpg does not exist in gt\n",
      "name b1d0a191-03dcecc2.jpg does not exist in gt\n",
      "name b1d0a191-03dcecc2.jpg does not exist in gt\n",
      "name b1d0a191-03dcecc2.jpg does not exist in gt\n",
      "name b1d0a191-03dcecc2.jpg does not exist in gt\n",
      "name b1d0a191-2ed2269e.jpg does not exist in gt\n",
      "name b1d0a191-2ed2269e.jpg does not exist in gt\n",
      "name b1d0a191-03dcecc2.jpg does not exist in gt\n",
      "name b1d0a191-03dcecc2.jpg does not exist in gt\n",
      "name b1d0a191-03dcecc2.jpg does not exist in gt\n",
      "name b1d0a191-2ed2269e.jpg does not exist in gt\n",
      "has Average Precision [0.17604646] Occluded Average Precision [0.06313866] non-Occluded Average Precision [0.32546972] num_gts 2843 num_gts_oc 1656 r [0.24657052] r_occ [0.13164251] r_nocc [0.40690817]\n",
      "has Average Precision [0.13063193] Occluded Average Precision [0.0543409] non-Occluded Average Precision [0.22132616] num_gts 2843 num_gts_oc 1577 r [0.20682378] r_occ [0.12048193] r_nocc [0.31437599]\n"
     ]
    }
   ],
   "source": [
    "# calculate mean difference\n",
    "print('day night eq')\n",
    "dn_day_result = evaluate_detection(gt_day, dn_day_pred)\n",
    "dn_night_result = evaluate_detection(gt_night, dn_night_pred)\n"
   ]
  },
  {
   "cell_type": "code",
   "execution_count": 75,
   "metadata": {},
   "outputs": [
    {
     "name": "stdout",
     "output_type": "stream",
     "text": [
      "mean difference 0.03974674639465353 exp diff -0.006518399197221605 unexp_diff 0.04626514559187514\n"
     ]
    }
   ],
   "source": [
    "\n",
    "# calculate conditional difference\n",
    "def calc_unexp_diff(day_result, night_result):\n",
    "    mean_diff = day_result['recall'] - night_result['recall']\n",
    "    occ_accp = (day_result['recall_oc'] + night_result['recall_oc'])/2\n",
    "    nocc_accp = (day_result['recall_noc'] + night_result['recall_noc'])/2\n",
    "    prob_occ_night = night_result['num_gts_oc'] / night_result['num_gts']\n",
    "    prob_nocc_night = (night_result['num_gts'] - night_result['num_gts_oc']) / night_result['num_gts']\n",
    "    prob_occ_day = day_result['num_gts_oc'] / day_result['num_gts']\n",
    "    prob_nocc_day = (day_result['num_gts'] - day_result['num_gts_oc']) / day_result['num_gts']\n",
    "\n",
    "    #print('occ_accp',occ_accp,'prob_occ_day', prob_occ_day, 'prob_occ_night', prob_occ_night)\n",
    "    #print('nocc_accp',nocc_accp, 'prob_nocc_day', prob_nocc_day, 'prob_nocc_night', prob_nocc_night)\n",
    "    exp_diff = occ_accp * (prob_occ_day - prob_occ_night) + nocc_accp * (prob_nocc_day - prob_nocc_night)\n",
    "    \n",
    "    unexp_diff = mean_diff - exp_diff\n",
    "\n",
    "    print('mean difference', mean_diff, 'exp diff', exp_diff, 'unexp_diff', unexp_diff)\n",
    "    \n",
    "    return mean_diff, exp_diff\n",
    "\n",
    "dn_mean_diff, dn_exp_diff = calc_unexp_diff(dn_day_result,dn_night_result)"
   ]
  },
  {
   "cell_type": "code",
   "execution_count": 76,
   "metadata": {},
   "outputs": [
    {
     "name": "stdout",
     "output_type": "stream",
     "text": [
      "day dominate\n",
      "name b1cd1e94-549d0bfe.jpg does not exist in gt\n",
      "name b1d0a191-03dcecc2.jpg does not exist in gt\n",
      "name b1d0a191-03dcecc2.jpg does not exist in gt\n",
      "name b1d0a191-03dcecc2.jpg does not exist in gt\n",
      "name b1d0a191-03dcecc2.jpg does not exist in gt\n",
      "name b1d0a191-03dcecc2.jpg does not exist in gt\n",
      "name b1d0a191-2ed2269e.jpg does not exist in gt\n",
      "name b1d0a191-03dcecc2.jpg does not exist in gt\n",
      "name b1d0a191-03dcecc2.jpg does not exist in gt\n",
      "name b1d0a191-03dcecc2.jpg does not exist in gt\n",
      "name b1d0a191-03dcecc2.jpg does not exist in gt\n",
      "name b1d0a191-03dcecc2.jpg does not exist in gt\n",
      "name b1d0a191-2ed2269e.jpg does not exist in gt\n",
      "name b1d0a191-03dcecc2.jpg does not exist in gt\n",
      "name b1d0a191-03dcecc2.jpg does not exist in gt\n",
      "name b1d0a191-03dcecc2.jpg does not exist in gt\n",
      "name b1d0a191-03dcecc2.jpg does not exist in gt\n",
      "name b1d0a191-2ed2269e.jpg does not exist in gt\n",
      "name b1d0a191-03dcecc2.jpg does not exist in gt\n",
      "name b1d0a191-03dcecc2.jpg does not exist in gt\n",
      "name b1d0a191-2ed2269e.jpg does not exist in gt\n",
      "name b1d0a191-03dcecc2.jpg does not exist in gt\n",
      "name b1d0a191-2ed2269e.jpg does not exist in gt\n",
      "has Average Precision [0.17272782] Occluded Average Precision [0.06478445] non-Occluded Average Precision [0.3179109] num_gts 2843 num_gts_oc 1656 r [0.24692227] r_occ [0.13043478] r_nocc [0.40943555]\n",
      "has Average Precision [0.12903541] Occluded Average Precision [0.04903427] non-Occluded Average Precision [0.22360738] num_gts 2843 num_gts_oc 1577 r [0.20823074] r_occ [0.11667724] r_nocc [0.32227488]\n",
      "mean difference 0.038691523039043274 exp diff -0.006732900953486961 unexp_diff 0.04542442399253024\n"
     ]
    }
   ],
   "source": [
    "# calculate day dom\n",
    "print('day dominate')\n",
    "dd_day_result = evaluate_detection(gt_day, dd_day_pred)\n",
    "dd_night_result = evaluate_detection(gt_night, dd_night_pred)\n",
    "dd_mean_diff, dd_exp_diff = calc_unexp_diff(dd_day_result, dd_night_result)\n"
   ]
  },
  {
   "cell_type": "code",
   "execution_count": 77,
   "metadata": {},
   "outputs": [
    {
     "name": "stdout",
     "output_type": "stream",
     "text": [
      "night dominate\n",
      "name b1cd1e94-549d0bfe.jpg does not exist in gt\n",
      "name b1d0a191-03dcecc2.jpg does not exist in gt\n",
      "name b1d0a191-03dcecc2.jpg does not exist in gt\n",
      "name b1d0a191-03dcecc2.jpg does not exist in gt\n",
      "name b1d0a191-2ed2269e.jpg does not exist in gt\n",
      "name b1d0a191-03dcecc2.jpg does not exist in gt\n",
      "name b1d0a191-03dcecc2.jpg does not exist in gt\n",
      "name b1d0a191-03dcecc2.jpg does not exist in gt\n",
      "name b1d0a191-03dcecc2.jpg does not exist in gt\n",
      "name b1d0a191-03dcecc2.jpg does not exist in gt\n",
      "name b1d0a191-2ed2269e.jpg does not exist in gt\n",
      "name b1d0a191-2ed2269e.jpg does not exist in gt\n",
      "name b1d0a191-03dcecc2.jpg does not exist in gt\n",
      "name b1d0a191-03dcecc2.jpg does not exist in gt\n",
      "name b1d0a191-03dcecc2.jpg does not exist in gt\n",
      "name b1d0a191-03dcecc2.jpg does not exist in gt\n",
      "name b1d0a191-03dcecc2.jpg does not exist in gt\n",
      "name b1d0a191-03dcecc2.jpg does not exist in gt\n",
      "name b1d0a191-03dcecc2.jpg does not exist in gt\n",
      "name b1d0a191-03dcecc2.jpg does not exist in gt\n",
      "name b1d0a191-03dcecc2.jpg does not exist in gt\n",
      "has Average Precision [0.17779968] Occluded Average Precision [0.0639934] non-Occluded Average Precision [0.33499162] num_gts 2843 num_gts_oc 1656 r [0.25641928] r_occ [0.13586957] r_nocc [0.42459983]\n",
      "has Average Precision [0.13655242] Occluded Average Precision [0.06523839] non-Occluded Average Precision [0.22177359] num_gts 2843 num_gts_oc 1577 r [0.21737601] r_occ [0.13443247] r_nocc [0.3206951]\n",
      "mean difference 0.03904326415758 exp diff -0.006599444122250511 unexp_diff 0.04564270827983051\n"
     ]
    }
   ],
   "source": [
    "# calculate day dom\n",
    "print('night dominate')\n",
    "nd_day_result = evaluate_detection(gt_day, nd_day_pred)\n",
    "nd_night_result = evaluate_detection(gt_night, nd_night_pred)\n",
    "nd_mean_diff, nd_exp_diff = calc_unexp_diff(nd_day_result, nd_night_result)"
   ]
  },
  {
   "cell_type": "code",
   "execution_count": 78,
   "metadata": {},
   "outputs": [
    {
     "data": {
      "image/png": "[encoded data removed]",
      "text/plain": [
       "<Figure size 432x288 with 1 Axes>"
      ]
     },
     "metadata": {
      "needs_background": "light"
     },
     "output_type": "display_data"
    }
   ],
   "source": [
    "training_time = [10000, 15000, 110310]\n",
    "model_labels = ['day dom', 'day night', 'night dom']\n",
    "\n",
    "plt.bar(range(0,3), training_time)\n",
    "plt.ylabel('Training Time')\n",
    "plt.xticks(range(0,3), model_labels)\n",
    "plt.show()"
   ]
  },
  {
   "cell_type": "markdown",
   "metadata": {},
   "source": [
    "# Dataset Distributions #"
   ]
  },
  {
   "cell_type": "code",
   "execution_count": 79,
   "metadata": {},
   "outputs": [
    {
     "data": {
      "image/png": "[encoded data removed]",
      "text/plain": [
       "<Figure size 432x288 with 1 Axes>"
      ]
     },
     "metadata": {
      "needs_background": "light"
     },
     "output_type": "display_data"
    }
   ],
   "source": [
    "# training data distribution\n",
    "N = 3\n",
    "night_person = (8089, 13497, 18898)\n",
    "day_person = ( 18898, 13498, 8092)\n",
    "ind = np.arange(N)\n",
    "\n",
    "pnight = plt.bar(ind, night_person, width=0.5)\n",
    "pday = plt.bar(ind, day_person , width=0.5, bottom=night_person)\n",
    "\n",
    "plt.ylabel('Number of Pedestrians')\n",
    "plt.xlabel('Models')\n",
    "plt.title('Number of Pedestrians by time of day and data set')\n",
    "plt.xticks(ind, ('Day Dom', 'Day Night Eq', 'Night Dom'))\n",
    "plt.yticks(np.arange(0, 38000, 4000))\n",
    "plt.legend((pnight[0], pday[0]), ('night', 'day'))\n",
    "\n",
    "plt.show()"
   ]
  },
  {
   "cell_type": "markdown",
   "metadata": {},
   "source": [
    "## Results ##"
   ]
  },
  {
   "cell_type": "code",
   "execution_count": 80,
   "metadata": {},
   "outputs": [
    {
     "data": {
      "text/plain": [
       "<matplotlib.legend.Legend at 0x7f6f1f28fbe0>"
      ]
     },
     "execution_count": 80,
     "metadata": {},
     "output_type": "execute_result"
    },
    {
     "data": {
      "image/png": "[encoded data removed]",
      "text/plain": [
       "<Figure size 432x288 with 1 Axes>"
      ]
     },
     "metadata": {
      "needs_background": "light"
     },
     "output_type": "display_data"
    }
   ],
   "source": [
    "data = {}\n",
    "data['training_time'] = [10000, 15000, 110310]\n",
    "\n",
    "gridnumber = np.arange(3)\n",
    "width = 0.35\n",
    "fig = plt.figure()\n",
    "ax = plt.subplot(111)\n",
    "day_recall = ax.bar(gridnumber, [dd_day_result['recall'], dn_day_result['recall'], nd_day_result['recall']], width, color='royalblue')\n",
    "night_recall = ax.bar(gridnumber + width, [dd_night_result['recall'], dn_night_result['recall'], nd_night_result['recall']], width, color='green')\n",
    "ax.set_xticks(gridnumber + width/2)\n",
    "ax.set_xticklabels(['Day Dom', 'Day Night Eq', 'Night Dom'])   \n",
    "ax.set_ylabel('Recalls')\n",
    "ax.set_title('Recall by time of day and by models')\n",
    "ax.set_ylim((0, 0.35))\n",
    "ax.legend((day_recall[0], night_recall[1]), ('day', 'night'))\n"
   ]
  },
  {
   "cell_type": "code",
   "execution_count": 52,
   "metadata": {},
   "outputs": [
    {
     "data": {
      "text/plain": [
       "Text(0.5, 1.0, 'Number of training steps vs datasets')"
      ]
     },
     "execution_count": 52,
     "metadata": {},
     "output_type": "execute_result"
    },
    {
     "data": {
      "image/png": "[encoded data removed]",
      "text/plain": [
       "<Figure size 432x288 with 1 Axes>"
      ]
     },
     "metadata": {
      "needs_background": "light"
     },
     "output_type": "display_data"
    }
   ],
   "source": [
    "training_times = [10000, 15000, 110310]\n",
    "plt.bar(gridnumber, training_times)\n",
    "plt.xticks(gridnumber, ['Day Dom', 'Day Night Eq', 'Night Dom'])\n",
    "plt.ylabel('Number of Training Steps')\n",
    "plt.title('Number of training steps vs datasets')"
   ]
  },
  {
   "cell_type": "code",
   "execution_count": null,
   "metadata": {},
   "outputs": [],
   "source": []
  }
 ],
 "metadata": {
  "kernelspec": {
   "display_name": "Python 3",
   "language": "python",
   "name": "python3"
  },
  "language_info": {
   "codemirror_mode": {
    "name": "ipython",
    "version": 3
   },
   "file_extension": ".py",
   "mimetype": "text/x-python",
   "name": "python",
   "nbconvert_exporter": "python",
   "pygments_lexer": "ipython3",
   "version": "3.6.6"
  }
 },
 "nbformat": 4,
 "nbformat_minor": 2
}
